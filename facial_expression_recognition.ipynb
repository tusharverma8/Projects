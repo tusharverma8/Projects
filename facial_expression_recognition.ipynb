{
  "nbformat": 4,
  "nbformat_minor": 0,
  "metadata": {
    "colab": {
      "name": "facial_expression_recognition.ipynb",
      "provenance": [],
      "collapsed_sections": []
    },
    "kernelspec": {
      "name": "python3",
      "display_name": "Python 3"
    },
    "accelerator": "GPU"
  },
  "cells": [
    {
      "cell_type": "code",
      "metadata": {
        "id": "FYfZhVK0fZ2V",
        "colab": {
          "base_uri": "https://localhost:8080/"
        },
        "outputId": "dbddb520-efb6-438b-cd6e-7d181390f61b"
      },
      "source": [
        "!git clone https://github.com/muxspace/facial_expressions.git"
      ],
      "execution_count": null,
      "outputs": [
        {
          "output_type": "stream",
          "text": [
            "Cloning into 'facial_expressions'...\n",
            "remote: Enumerating objects: 14214, done.\u001b[K\n",
            "remote: Total 14214 (delta 0), reused 0 (delta 0), pack-reused 14214\u001b[K\n",
            "Receiving objects: 100% (14214/14214), 239.65 MiB | 25.12 MiB/s, done.\n",
            "Resolving deltas: 100% (223/223), done.\n",
            "Checking out files: 100% (13996/13996), done.\n"
          ],
          "name": "stdout"
        }
      ]
    },
    {
      "cell_type": "code",
      "metadata": {
        "id": "s9g3ri-UfmET"
      },
      "source": [
        "import csv\n",
        "data = {}\n",
        "with open('/content/facial_expressions/data/legend.csv') as f:\n",
        "  reader = csv.reader(f)\n",
        "  next(reader) #moving the pointer to 2nd row\n",
        "  for row in reader:\n",
        "    key = row[2].lower()\n",
        "    if key in data:\n",
        "      data[key].append(row[1])\n",
        "    else:\n",
        "      data[key] = [row[1]]"
      ],
      "execution_count": null,
      "outputs": []
    },
    {
      "cell_type": "code",
      "metadata": {
        "id": "VVzU_a67jrGX",
        "colab": {
          "base_uri": "https://localhost:8080/"
        },
        "outputId": "fdaa0fda-722a-4970-c61e-8e49ff59358f"
      },
      "source": [
        "emotion_list = list(data.keys())\n",
        "emotion_list"
      ],
      "execution_count": null,
      "outputs": [
        {
          "output_type": "execute_result",
          "data": {
            "text/plain": [
              "['anger',\n",
              " 'surprise',\n",
              " 'disgust',\n",
              " 'fear',\n",
              " 'neutral',\n",
              " 'happiness',\n",
              " 'sadness',\n",
              " 'contempt']"
            ]
          },
          "metadata": {
            "tags": []
          },
          "execution_count": 4
        }
      ]
    },
    {
      "cell_type": "code",
      "metadata": {
        "id": "vHbst716k2KO"
      },
      "source": [
        "import os\n",
        "\n",
        "os.mkdir('master_data')\n",
        "os.mkdir('master_data/training')\n",
        "os.mkdir('master_data/testing')"
      ],
      "execution_count": null,
      "outputs": []
    },
    {
      "cell_type": "code",
      "metadata": {
        "id": "yVQ7jkssk9cd"
      },
      "source": [
        "for emotion in emotion_list:\n",
        "  os.mkdir(os.path.join('master_data/training/', emotion))\n",
        "  os.mkdir(os.path.join('master_data/testing/', emotion))"
      ],
      "execution_count": null,
      "outputs": []
    },
    {
      "cell_type": "code",
      "metadata": {
        "id": "5NAIPMkLlIj1"
      },
      "source": [
        "from shutil import copyfile\n",
        "split_size = 0.8\n",
        "\n",
        "for emotion, images in data.items():\n",
        "  train_size = int(split_size*len(images))\n",
        "  train_images = images[:train_size]\n",
        "  test_images = images[train_size:]\n",
        "  for image in train_images:\n",
        "    source = os.path.join('/content/facial_expressions/images', image)\n",
        "    dest = os.path.join('/content/master_data/training', emotion, image)\n",
        "    copyfile(source, dest)\n",
        "  for image in test_images:\n",
        "    source = os.path.join('/content/facial_expressions/images', image)\n",
        "    dest = os.path.join('/content/master_data/testing', emotion, image)\n",
        "    copyfile(source, dest)"
      ],
      "execution_count": null,
      "outputs": []
    },
    {
      "cell_type": "code",
      "metadata": {
        "id": "9nUCakLgmSNp"
      },
      "source": [
        "import tensorflow as tf\n",
        "from tensorflow.keras.preprocessing.image import ImageDataGenerator\n",
        "from tensorflow.keras.optimizers import Adam, RMSprop\n",
        "from tensorflow.keras.callbacks import EarlyStopping\n",
        "from tensorflow.keras.layers import Conv2D, MaxPooling2D, Dense, Flatten, Dropout"
      ],
      "execution_count": null,
      "outputs": []
    },
    {
      "cell_type": "code",
      "metadata": {
        "id": "dSYxzkfjnduI",
        "colab": {
          "base_uri": "https://localhost:8080/"
        },
        "outputId": "843cd51e-26a3-4427-9c44-11aef3c80f35"
      },
      "source": [
        "model = tf.keras.models.Sequential([\n",
        "      Conv2D(128, (3,3), activation='relu', input_shape = (100, 100, 3)),\n",
        "      MaxPooling2D(2, 2),\n",
        "      Conv2D(256, (3,3), activation='relu'),\n",
        "      MaxPooling2D(2, 2),\n",
        "      Conv2D(256, (3,3), activation='relu'),\n",
        "      MaxPooling2D(2, 2),\n",
        "      Conv2D(512, (3,3), activation='relu'),\n",
        "      MaxPooling2D(2, 2),\n",
        "      Flatten(),\n",
        "      Dense(1024, activation='relu'),\n",
        "      Dropout(0.2),\n",
        "      Dense(8, activation='softmax')\n",
        "])\n",
        "model.compile(optimizer = Adam(lr = 0.01), loss = 'categorical_crossentropy', metrics = ['acc'])\n",
        "model.summary()"
      ],
      "execution_count": null,
      "outputs": [
        {
          "output_type": "stream",
          "text": [
            "Model: \"sequential_8\"\n",
            "_________________________________________________________________\n",
            "Layer (type)                 Output Shape              Param #   \n",
            "=================================================================\n",
            "conv2d_36 (Conv2D)           (None, 98, 98, 128)       3584      \n",
            "_________________________________________________________________\n",
            "max_pooling2d_36 (MaxPooling (None, 49, 49, 128)       0         \n",
            "_________________________________________________________________\n",
            "conv2d_37 (Conv2D)           (None, 47, 47, 256)       295168    \n",
            "_________________________________________________________________\n",
            "max_pooling2d_37 (MaxPooling (None, 23, 23, 256)       0         \n",
            "_________________________________________________________________\n",
            "conv2d_38 (Conv2D)           (None, 21, 21, 256)       590080    \n",
            "_________________________________________________________________\n",
            "max_pooling2d_38 (MaxPooling (None, 10, 10, 256)       0         \n",
            "_________________________________________________________________\n",
            "conv2d_39 (Conv2D)           (None, 8, 8, 512)         1180160   \n",
            "_________________________________________________________________\n",
            "max_pooling2d_39 (MaxPooling (None, 4, 4, 512)         0         \n",
            "_________________________________________________________________\n",
            "flatten_9 (Flatten)          (None, 8192)              0         \n",
            "_________________________________________________________________\n",
            "dense_17 (Dense)             (None, 1024)              8389632   \n",
            "_________________________________________________________________\n",
            "dropout_9 (Dropout)          (None, 1024)              0         \n",
            "_________________________________________________________________\n",
            "dense_18 (Dense)             (None, 8)                 8200      \n",
            "=================================================================\n",
            "Total params: 10,466,824\n",
            "Trainable params: 10,466,824\n",
            "Non-trainable params: 0\n",
            "_________________________________________________________________\n"
          ],
          "name": "stdout"
        },
        {
          "output_type": "stream",
          "text": [
            "/usr/local/lib/python3.7/dist-packages/tensorflow/python/keras/optimizer_v2/optimizer_v2.py:375: UserWarning: The `lr` argument is deprecated, use `learning_rate` instead.\n",
            "  \"The `lr` argument is deprecated, use `learning_rate` instead.\")\n"
          ],
          "name": "stderr"
        }
      ]
    },
    {
      "cell_type": "code",
      "metadata": {
        "id": "xo-O0elhqXWg",
        "colab": {
          "base_uri": "https://localhost:8080/"
        },
        "outputId": "28479fb0-c765-425f-d17b-97060e341430"
      },
      "source": [
        "train_dir = '/content/master_data/training'\n",
        "test_dir = '/content/master_data/testing'\n",
        "\n",
        "train_datagen = ImageDataGenerator(rescale = 1.0/255)\n",
        "train_generator = train_datagen.flow_from_directory(\n",
        "                                                    train_dir,\n",
        "                                                    target_size = (100,100),\n",
        "                                                    class_mode = 'categorical',\n",
        "                                                    batch_size = 64\n",
        "                                                  )\n",
        "\n",
        "test_datagen = ImageDataGenerator(rescale = 1.0/255)\n",
        "test_generator = test_datagen.flow_from_directory(\n",
        "                                                    test_dir,\n",
        "                                                    target_size = (100,100),\n",
        "                                                    class_mode = 'categorical',\n",
        "                                                    batch_size = 64\n",
        "                                                  )"
      ],
      "execution_count": null,
      "outputs": [
        {
          "output_type": "stream",
          "text": [
            "Found 10941 images belonging to 8 classes.\n",
            "Found 4521 images belonging to 8 classes.\n"
          ],
          "name": "stdout"
        }
      ]
    },
    {
      "cell_type": "code",
      "metadata": {
        "id": "YCI0xQtlsbYc"
      },
      "source": [
        "es = EarlyStopping(monitor='val_acc', patience = 5, min_delta=0.01)"
      ],
      "execution_count": null,
      "outputs": []
    },
    {
      "cell_type": "code",
      "metadata": {
        "id": "jMBsgMIqs_GP",
        "colab": {
          "base_uri": "https://localhost:8080/"
        },
        "outputId": "bfdc06bf-54c7-4500-a721-1494ea84bdd6"
      },
      "source": [
        "model.fit_generator(train_generator,\n",
        "                    epochs = 30,\n",
        "                    verbose = 1,\n",
        "                    validation_data = test_generator,\n",
        "                    callbacks = [es])"
      ],
      "execution_count": null,
      "outputs": [
        {
          "output_type": "stream",
          "text": [
            "/usr/local/lib/python3.7/dist-packages/tensorflow/python/keras/engine/training.py:1940: UserWarning: `Model.fit_generator` is deprecated and will be removed in a future version. Please use `Model.fit`, which supports generators.\n",
            "  warnings.warn('`Model.fit_generator` is deprecated and '\n"
          ],
          "name": "stderr"
        },
        {
          "output_type": "stream",
          "text": [
            "Epoch 1/30\n",
            "171/171 [==============================] - 28s 147ms/step - loss: 39.8715 - acc: 0.4723 - val_loss: 1.0533 - val_acc: 0.5014\n",
            "Epoch 2/30\n",
            "171/171 [==============================] - 23s 133ms/step - loss: 1.0416 - acc: 0.4836 - val_loss: 1.0263 - val_acc: 0.5021\n",
            "Epoch 3/30\n",
            "171/171 [==============================] - 22s 130ms/step - loss: 1.0219 - acc: 0.5050 - val_loss: 0.9927 - val_acc: 0.5800\n",
            "Epoch 4/30\n",
            "171/171 [==============================] - 22s 127ms/step - loss: 0.9234 - acc: 0.6204 - val_loss: 0.8816 - val_acc: 0.6642\n",
            "Epoch 5/30\n",
            "171/171 [==============================] - 22s 126ms/step - loss: 0.7780 - acc: 0.7215 - val_loss: 0.8537 - val_acc: 0.6881\n",
            "Epoch 6/30\n",
            "171/171 [==============================] - 21s 125ms/step - loss: 0.7254 - acc: 0.7434 - val_loss: 0.8674 - val_acc: 0.6806\n",
            "Epoch 7/30\n",
            "171/171 [==============================] - 22s 127ms/step - loss: 0.7129 - acc: 0.7466 - val_loss: 0.9456 - val_acc: 0.6786\n",
            "Epoch 8/30\n",
            "171/171 [==============================] - 22s 126ms/step - loss: 0.7040 - acc: 0.7482 - val_loss: 0.9184 - val_acc: 0.6797\n",
            "Epoch 9/30\n",
            "171/171 [==============================] - 22s 129ms/step - loss: 0.6891 - acc: 0.7565 - val_loss: 0.9710 - val_acc: 0.6784\n",
            "Epoch 10/30\n",
            "171/171 [==============================] - 22s 130ms/step - loss: 0.6800 - acc: 0.7573 - val_loss: 0.9536 - val_acc: 0.6877\n"
          ],
          "name": "stdout"
        },
        {
          "output_type": "execute_result",
          "data": {
            "text/plain": [
              "<tensorflow.python.keras.callbacks.History at 0x7f378d7dc290>"
            ]
          },
          "metadata": {
            "tags": []
          },
          "execution_count": 58
        }
      ]
    },
    {
      "cell_type": "code",
      "metadata": {
        "id": "FpMZS9mu1kcp"
      },
      "source": [
        ""
      ],
      "execution_count": null,
      "outputs": []
    }
  ]
}